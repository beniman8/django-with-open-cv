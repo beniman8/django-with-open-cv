{
 "cells": [
  {
   "cell_type": "code",
   "execution_count": 1,
   "id": "e4eec395-c111-46eb-a32b-c999aac29617",
   "metadata": {},
   "outputs": [
    {
     "name": "stdout",
     "output_type": "stream",
     "text": [
      "beni\n"
     ]
    }
   ],
   "source": [
    "print('beni')\n"
   ]
  },
  {
   "cell_type": "code",
   "execution_count": null,
   "id": "d82c2e7e-b25d-4f03-bc25-02d51d371c5c",
   "metadata": {},
   "outputs": [],
   "source": []
  }
 ],
 "metadata": {
  "kernelspec": {
   "display_name": "Python 3 (ipykernel)",
   "language": "python",
   "name": "python3"
  },
  "language_info": {
   "codemirror_mode": {
    "name": "ipython",
    "version": 3
   },
   "file_extension": ".py",
   "mimetype": "text/x-python",
   "name": "python",
   "nbconvert_exporter": "python",
   "pygments_lexer": "ipython3",
   "version": "3.9.2"
  }
 },
 "nbformat": 4,
 "nbformat_minor": 5
}
